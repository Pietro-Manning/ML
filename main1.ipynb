{
 "cells": [
  {
   "cell_type": "code",
   "execution_count": 1,
   "id": "5274e8ed-fec7-469f-99d3-e9ce6dde1da2",
   "metadata": {},
   "outputs": [
    {
     "name": "stdout",
     "output_type": "stream",
     "text": [
      "mse:  478.90282707151476\n",
      "r2:  0.025224244476161783\n"
     ]
    }
   ],
   "source": [
    "import pandas as pd\n",
    "\n",
    "from sklearn.preprocessing import OneHotEncoder\n",
    "from sklearn.preprocessing import MinMaxScaler\n",
    "import pandas as pd\n",
    "\n",
    "from sklearn.preprocessing import OneHotEncoder\n",
    "from sklearn.preprocessing import MinMaxScaler\n",
    "from sklearn.model_selection import cross_val_score\n",
    "from sklearn.model_selection import KFold\n",
    "from sklearn.kernel_ridge import KernelRidge\n",
    "from sklearn.model_selection import train_test_split\n",
    "from sklearn.linear_model import Ridge\n",
    "from sklearn.metrics import mean_squared_error, r2_score\n",
    "\n",
    "from SpotifyPredictor import RidgeRegression\n",
    "ridge_regression_model = RidgeRegression(alpha=.9)\n",
    "model = Ridge(alpha=.3)\n",
    "min_max_scaler = MinMaxScaler()\n",
    "# step 1: read the csv\n",
    "df = pd.read_csv('C:/Users/pietr_3fbsul4/Desktop/MLproject/SpotifyDataSet.csv')\n",
    "#print(df[\"popularity\"])\n",
    "# step 1.5: select only numerical features\n",
    "ndf = df.select_dtypes(include=['int64', 'float64'])\n",
    "# numerical_features = popularity, duration_ms, danceability, energy,loudness, mode, speechiness, acousticness, instrumentalness, liveness, valence, tempo, time_signature\n",
    "#print(ndf.isnull().sum())\n",
    "\n",
    "# the time_signature feature is a categorical one because of the restricted number of values it can assume\n",
    "#print(ndf['time_signature'].unique())\n",
    "\n",
    "# the mode feature is a categorical one because of the restricted number of values it can assume (0 or 1)\n",
    "#print(ndf['mode'].unique())\n",
    "# creating one hot encoder\n",
    "encoder = OneHotEncoder(sparse=False, drop='first') \n",
    "\n",
    "# it will be applied on key value:\n",
    "# 1. time_signature\n",
    "time_signature_encoded = encoder.fit_transform(ndf[['time_signature']])\n",
    "#print(time_signature_encoded.toarray())\n",
    "\n",
    "time_signature_encoded_DF = pd.DataFrame(time_signature_encoded, columns=encoder.get_feature_names_out(['time_signature']))\n",
    "ndf = pd.concat([ndf, time_signature_encoded_DF], axis=1).drop('time_signature', axis=1)\n",
    "X = ndf.drop(\"popularity\", axis=1)\n",
    "y = ndf[\"popularity\"]\n",
    "#pd.set_option('display.max_columns', None) \n",
    "#print(X.columns)\n",
    "\n",
    "X_train, X_test,y_train, y_test = train_test_split(X, y, test_size=0.2)\n",
    "X_train_scaled = min_max_scaler.fit_transform(X_train)\n",
    "\n",
    "ridge_regression_model.fit(X_train_scaled, y_train)\n",
    "#print(\"self.coefficients: \", ridge_regression_model.coefficients)\n",
    "\n",
    "X_test_scaled = min_max_scaler.transform(X_test)\n",
    "y_pred_scaled = ridge_regression_model.predict(X_test_scaled)\n",
    "#print(y_test.shape)\n",
    "#print(y_pred_scaled.shape)\n",
    "mse = mean_squared_error(y_test, y_pred_scaled)\n",
    "r2 = r2_score(y_test, y_pred_scaled)\n",
    "\n",
    "print(\"mse: \", mse)\n",
    "print(\"r2: \", r2)\n",
    "\n",
    "\n",
    "\n",
    "\n"
   ]
  },
  {
   "cell_type": "code",
   "execution_count": null,
   "id": "99b0e8d8-eb0c-4019-9f45-c28c38f29915",
   "metadata": {},
   "outputs": [],
   "source": []
  }
 ],
 "metadata": {
  "kernelspec": {
   "display_name": "Python 3 (ipykernel)",
   "language": "python",
   "name": "python3"
  },
  "language_info": {
   "codemirror_mode": {
    "name": "ipython",
    "version": 3
   },
   "file_extension": ".py",
   "mimetype": "text/x-python",
   "name": "python",
   "nbconvert_exporter": "python",
   "pygments_lexer": "ipython3",
   "version": "3.9.12"
  }
 },
 "nbformat": 4,
 "nbformat_minor": 5
}
