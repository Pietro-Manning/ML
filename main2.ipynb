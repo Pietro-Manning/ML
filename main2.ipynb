{
 "cells": [
  {
   "cell_type": "code",
   "execution_count": 7,
   "id": "304f59b9-d066-473a-acd9-35711f5fcc41",
   "metadata": {},
   "outputs": [
    {
     "name": "stdout",
     "output_type": "stream",
     "text": [
      "Score: 0.02522578990829145\n",
      "scores_sklearn:  0.025211583060403366\n"
     ]
    }
   ],
   "source": [
    "import pandas as pd\n",
    "\n",
    "from sklearn.preprocessing import OneHotEncoder\n",
    "from sklearn.preprocessing import MinMaxScaler\n",
    "import pandas as pd\n",
    "\n",
    "from sklearn.preprocessing import OneHotEncoder\n",
    "from sklearn.preprocessing import MinMaxScaler\n",
    "from sklearn.model_selection import cross_val_score\n",
    "from sklearn.model_selection import KFold\n",
    "from sklearn.kernel_ridge import KernelRidge\n",
    "from sklearn.model_selection import train_test_split\n",
    "from sklearn.linear_model import Ridge\n",
    "from sklearn.metrics import mean_squared_error, r2_score\n",
    "\n",
    "\n",
    "from SpotifyPredictor import RidgeRegression\n",
    "\n",
    "ridge_regression_model = RidgeRegression(alpha=.3)\n",
    "model = Ridge(alpha=.3)\n",
    "min_max_scaler = MinMaxScaler()\n",
    "# step 1: read the csv\n",
    "df = pd.read_csv('C:/Users/pietr_3fbsul4/Desktop/MLproject/SpotifyDataSet.csv')\n",
    "ndf = df.select_dtypes(include=['int64', 'float64'])\n",
    "encoder = OneHotEncoder(sparse=False, drop='first')\n",
    "time_signature_encoded = encoder.fit_transform(ndf[['time_signature']])\n",
    "time_signature_encoded_DF = pd.DataFrame(time_signature_encoded, columns=encoder.get_feature_names_out(['time_signature']))\n",
    "ndf = pd.concat([ndf, time_signature_encoded_DF], axis=1).drop('time_signature', axis=1)\n",
    "X = ndf.drop(\"popularity\", axis=1)\n",
    "y = ndf[\"popularity\"]\n",
    "kf = KFold(n_splits=5, shuffle=True)\n",
    "scores = cross_val_score(ridge_regression_model, X, y, cv=kf, scoring='r2')\n",
    "scores_sklearn = cross_val_score(model, X, y, cv=kf, scoring='r2') #scikit learn regression\n",
    "mean_score = scores.mean()\n",
    "print(\"Score:\", mean_score)\n",
    "print(\"scores_sklearn: \",scores_sklearn.mean())\n",
    "\n",
    "\n",
    "# print(\"X_train_scaled.shape: \", X_train_scaled.shape)\n",
    "#\n",
    "# print(\"X_train.shape = \", X_train.shape)\n",
    "# print(\"X_test.shape = \", X_test.shape)\n",
    "# print(\"y_train.shape = \", y_train.shape)\n",
    "# print(\"y_test.shape = \", y_test.shape)\n",
    "\n",
    "\n",
    "#qua stiamo valutando le performance del modello e fa tutto in automatico kfold cross validation, però non vedo i coefficienti stimati perchè avviene tutto automaticamente dentro la k\n"
   ]
  }
 ],
 "metadata": {
  "kernelspec": {
   "display_name": "Python 3 (ipykernel)",
   "language": "python",
   "name": "python3"
  },
  "language_info": {
   "codemirror_mode": {
    "name": "ipython",
    "version": 3
   },
   "file_extension": ".py",
   "mimetype": "text/x-python",
   "name": "python",
   "nbconvert_exporter": "python",
   "pygments_lexer": "ipython3",
   "version": "3.9.12"
  }
 },
 "nbformat": 4,
 "nbformat_minor": 5
}
